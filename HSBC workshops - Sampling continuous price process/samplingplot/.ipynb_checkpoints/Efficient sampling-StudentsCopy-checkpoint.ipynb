{
 "cells": [
  {
   "cell_type": "code",
   "execution_count": 1,
   "metadata": {},
   "outputs": [],
   "source": [
    "import numpy as np\n",
    "import pandas as pd\n",
    "import matplotlib.pyplot as plt\n",
    "from scipy.optimize import curve_fit\n",
    "from scipy.integrate import solve_bvp\n",
    "from scipy import stats\n",
    "import random\n",
    "import datetime \n",
    "from statsmodels.graphics.tsaplots import plot_acf\n",
    "import statsmodels.tsa.api as smt\n",
    "\n",
    "%matplotlib inline\n",
    "\n"
   ]
  },
  {
   "cell_type": "markdown",
   "metadata": {},
   "source": [
    "# Efficient way to sample continuous price process with microstructure noise\n"
   ]
  },
  {
   "cell_type": "markdown",
   "metadata": {},
   "source": [
    "## Bibliography \n",
    "- Yacine Ait-Sahalia, Per A. Mykland, Lan Zhang.  \"*How Often to Sample a Continuous-Time Process in the Presence of Market Microstructure Noise.\"* The Review of Financial Studies / v 18  **2** 2005r.\n"
   ]
  },
  {
   "cell_type": "markdown",
   "metadata": {},
   "source": [
    "### Foreword\n",
    "Don't be afraid to play, edit, add anything to this notebook. Whenever you would like to test a piece of code, add a cell using the navigation bar above (**Insert**) or using keyboard shortcuts (`a` for a new cell above and `b` for below)"
   ]
  },
  {
   "cell_type": "markdown",
   "metadata": {},
   "source": [
    "# Quick introduction to Python"
   ]
  },
  {
   "cell_type": "code",
   "execution_count": 2,
   "metadata": {},
   "outputs": [
    {
     "data": {
      "text/plain": [
       "1000"
      ]
     },
     "execution_count": 2,
     "metadata": {},
     "output_type": "execute_result"
    }
   ],
   "source": [
    "# Python is a dynamically-typed language, thus there is no need specify type of a variable.\n",
    "a = 1234\n",
    "a -= 234\n",
    "\"\"\"In Jupyter notebook, if you just write a variable name at the end of a cell, \n",
    "   its value is printed in the output cell below.\"\"\"\n",
    "a"
   ]
  },
  {
   "cell_type": "code",
   "execution_count": 3,
   "metadata": {},
   "outputs": [
    {
     "name": "stdout",
     "output_type": "stream",
     "text": [
      "Hello world\n"
     ]
    }
   ],
   "source": [
    "b = \"Hello world\"\n",
    "# Use print function to print variable's represenation to the output\n",
    "print(b)"
   ]
  },
  {
   "cell_type": "code",
   "execution_count": 4,
   "metadata": {},
   "outputs": [
    {
     "name": "stdout",
     "output_type": "stream",
     "text": [
      "a: Hello world , b: 1000\n"
     ]
    }
   ],
   "source": [
    "# You can easily swap variables with:\n",
    "a, b = b, a\n",
    "print('a:', a, ', b:', b)"
   ]
  },
  {
   "cell_type": "markdown",
   "metadata": {},
   "source": [
    "### Data types\n",
    "Most important data types in Python are: lists, tuples and dictionaries. They all can hold a mix of various types."
   ]
  },
  {
   "cell_type": "code",
   "execution_count": 5,
   "metadata": {},
   "outputs": [
    {
     "data": {
      "text/plain": [
       "[0, 2, 'c', 'no more a list', ('a', 'list'), 'new element']"
      ]
     },
     "execution_count": 5,
     "metadata": {},
     "output_type": "execute_result"
    }
   ],
   "source": [
    "my_list = [1, 2, 'c', ['list', 'in'], ('a', 'list')]\n",
    "\n",
    "# Indexing starts with 0. Last element may be accessed via -1 index, second to last via -2, etc.\n",
    "my_list[0] = 0\n",
    "my_list[-2] = \"no more a list\"\n",
    "\n",
    "# Lists are mutable, meaning they can be modified after creation \n",
    "my_list.append('new element')\n",
    "my_list"
   ]
  },
  {
   "cell_type": "code",
   "execution_count": 6,
   "metadata": {},
   "outputs": [
    {
     "ename": "TypeError",
     "evalue": "'tuple' object does not support item assignment",
     "output_type": "error",
     "traceback": [
      "\u001b[1;31m---------------------------------------------------------------------------\u001b[0m",
      "\u001b[1;31mTypeError\u001b[0m                                 Traceback (most recent call last)",
      "\u001b[1;32m<ipython-input-6-56221878aa0d>\u001b[0m in \u001b[0;36m<module>\u001b[1;34m\u001b[0m\n\u001b[0;32m      1\u001b[0m \u001b[0mmy_tuple\u001b[0m \u001b[1;33m=\u001b[0m \u001b[1;33m(\u001b[0m\u001b[1;36m1\u001b[0m\u001b[1;33m,\u001b[0m \u001b[1;36m2\u001b[0m\u001b[1;33m)\u001b[0m\u001b[1;33m\u001b[0m\u001b[1;33m\u001b[0m\u001b[0m\n\u001b[0;32m      2\u001b[0m \u001b[1;31m# On the other hand, tuples are immutable and they cannot be modified\u001b[0m\u001b[1;33m\u001b[0m\u001b[1;33m\u001b[0m\u001b[1;33m\u001b[0m\u001b[0m\n\u001b[1;32m----> 3\u001b[1;33m \u001b[0mmy_tuple\u001b[0m\u001b[1;33m[\u001b[0m\u001b[1;36m1\u001b[0m\u001b[1;33m]\u001b[0m \u001b[1;33m=\u001b[0m \u001b[1;36m3\u001b[0m \u001b[1;31m# this line throws an exception\u001b[0m\u001b[1;33m\u001b[0m\u001b[1;33m\u001b[0m\u001b[0m\n\u001b[0m",
      "\u001b[1;31mTypeError\u001b[0m: 'tuple' object does not support item assignment"
     ]
    }
   ],
   "source": [
    "my_tuple = (1, 2)\n",
    "# On the other hand, tuples are immutable and they cannot be modified\n",
    "my_tuple[1] = 3 # this line throws an exception"
   ]
  },
  {
   "cell_type": "markdown",
   "metadata": {},
   "source": [
    "### Flow control statements\n",
    "Available are: `if`, `for` and `while`. There is no `switch`. Take a look at the below examples."
   ]
  },
  {
   "cell_type": "code",
   "execution_count": 7,
   "metadata": {},
   "outputs": [
    {
     "name": "stdout",
     "output_type": "stream",
     "text": [
      "0\n",
      "1\n",
      "2 !\n"
     ]
    }
   ],
   "source": [
    "for number in range(3):\n",
    "    if number == 2:\n",
    "        print(number, '!')\n",
    "    else:\n",
    "        print(number)"
   ]
  },
  {
   "cell_type": "code",
   "execution_count": 8,
   "metadata": {},
   "outputs": [
    {
     "name": "stdout",
     "output_type": "stream",
     "text": [
      "1\n",
      "4\n",
      "2\n",
      "0\n"
     ]
    }
   ],
   "source": [
    "nums = [0, 2, 4, 1]\n",
    "while nums:\n",
    "    print(nums.pop())"
   ]
  },
  {
   "cell_type": "markdown",
   "metadata": {},
   "source": [
    "### Functions\n",
    "Functions are declared with the `def` keyword. Mandatory arguments come first followed by the optional ones."
   ]
  },
  {
   "cell_type": "code",
   "execution_count": 9,
   "metadata": {},
   "outputs": [],
   "source": [
    "def add_two_numbers(x, y, extra=0):\n",
    "    return x + y + extra"
   ]
  },
  {
   "cell_type": "code",
   "execution_count": 10,
   "metadata": {},
   "outputs": [
    {
     "data": {
      "text/plain": [
       "5"
      ]
     },
     "execution_count": 10,
     "metadata": {},
     "output_type": "execute_result"
    }
   ],
   "source": [
    "add_two_numbers(3, 2)"
   ]
  },
  {
   "cell_type": "code",
   "execution_count": 11,
   "metadata": {
    "scrolled": true
   },
   "outputs": [
    {
     "data": {
      "text/plain": [
       "-2"
      ]
     },
     "execution_count": 11,
     "metadata": {},
     "output_type": "execute_result"
    }
   ],
   "source": [
    "add_two_numbers(y=2, extra=-1, x=-3)"
   ]
  },
  {
   "cell_type": "markdown",
   "metadata": {},
   "source": [
    "## NumPy\n",
    "NumPy is a fundamental package for scientific computing in Python. It introduces a notion of NumPy's array - an object similar to the built-in list, though with a fixed size and fixed data type it holds (e.g. it cannot store numbers and strings at the same time).\n",
    "\n",
    "In the following exercies we will familiarise you with the necessary concepts."
   ]
  },
  {
   "cell_type": "markdown",
   "metadata": {},
   "source": [
    "### Imports\n",
    "Necessary Python libraries that we will use during this workshop. In Python you can load a library by writing `import library_name`. This exposes library's API within a namespace named as library, e.g. `library_name.function_name()` is used to call `function_name` that was implemented in `library_name`. A shorthand notation is to write `import library_name as ln` which exposes functions in `ln` namespace instead of its previous, longer version."
   ]
  },
  {
   "cell_type": "code",
   "execution_count": 13,
   "metadata": {},
   "outputs": [],
   "source": [
    "from samplingplot import *"
   ]
  },
  {
   "cell_type": "markdown",
   "metadata": {},
   "source": [
    "# Toy Model Setting"
   ]
  },
  {
   "cell_type": "markdown",
   "metadata": {},
   "source": [
    "\n",
    "\n",
    "When the prices follow a lognormal distriubution, the returns follow a normal distribution.\n",
    "\n",
    "Log-price follows a regular Wiener process \n",
    "\n",
    "\\begin{align*}\n",
    "X_{t} =\\sigma W_{t}.\n",
    "\\end{align*}\n",
    "\n",
    "\n",
    "Data is sampled at equidistant time intervals $\\Delta,$ in which case the parameter $\\sigma^{2}$ is estimated at time $T$ on the basis of $K+1$ discrete observations recorded at times $$\\tau_{0}=0, \\ \\tau_{1}=\\Delta,\\ldots,\\tau_{K}=K\\Delta=T$$ we have:\n",
    "\n",
    "Returns are equal to:\n",
    "\n",
    "\\begin{align*}\n",
    "Y_{i} & =X_{\\tau_{i}}-X_{\\tau_{i-1}}\\\\\n",
    "& =\\sigma\\left(W_{\\tau_{i}}-W_{\\tau_{i-1}}\\right).\n",
    "\\end{align*}\n",
    "\n"
   ]
  },
  {
   "cell_type": "code",
   "execution_count": 14,
   "metadata": {},
   "outputs": [
    {
     "data": {
      "image/png": "[encoded data removed]",
      "text/plain": [
       "<Figure size 720x360 with 1 Axes>"
      ]
     },
     "metadata": {},
     "output_type": "display_data"
    }
   ],
   "source": [
    "plot_sampling_without_noise()"
   ]
  },
  {
   "cell_type": "markdown",
   "metadata": {},
   "source": [
    "## Exercise 1\n",
    "\n",
    "simulate processes: $X_t$.\n",
    "\n",
    "It can be done at least in two ways: \n",
    "     - iteratively  \n",
    "\\begin{align*}\n",
    "     X[i+1]=f(X[i],\\sigma, dt, \\dots )\n",
    "\\end{align*}\n",
    "     - simultainusly (without looping through the data).\n",
    "Check if log-returs follow normal distribution\n",
    "   "
   ]
  },
  {
   "cell_type": "code",
   "execution_count": null,
   "metadata": {
    "collapsed": true
   },
   "outputs": [],
   "source": [
    "##for presenter only\n",
    "\n",
    "def X_t(S0,sigma,n_steps,seed=1245):\n",
    "    np.random.seed(seed)\n",
    "    dt=1.0/n_steps\n",
    "    S=sigma*np.sqrt(dt)*np.random.normal(0,1,size=n_steps).T\n",
    "    S=S.cumsum()\n",
    "    return(S)\n",
    "\n",
    "def Xt1(S0,sigma,n_steps,seed=1245) :\n",
    "        np.random.seed(seed)\n",
    "        dt=1.0/n_steps\n",
    "        S=[]\n",
    "        S.append(S0)\n",
    "        for i in range (1,n_steps):\n",
    "            rand=np.random.normal(0,1)\n",
    "            S.append(S[i-1]+sigma*np.sqrt(dt)*rand)\n",
    "        return(S)\n",
    "\n"
   ]
  },
  {
   "cell_type": "code",
   "execution_count": null,
   "metadata": {
    "collapsed": true
   },
   "outputs": [],
   "source": [
    "# part of the body function\n",
    "\n",
    "def X_t( _ , seed = 1245):\n",
    "        np.random.seed(seed)\n",
    "        dt = 1.0 / _\n",
    "        X= _\n",
    "        X.append(X0)\n",
    "        for i in _ :\n",
    "            rand = _\n",
    "            X.append( _ )\n",
    "        return(X)\n"
   ]
  },
  {
   "cell_type": "code",
   "execution_count": null,
   "metadata": {
    "collapsed": true,
    "scrolled": false
   },
   "outputs": [],
   "source": [
    "plt.plot(_ ,label=\"\")\n",
    "plt.xlabel(\"\")\n",
    "plt.ylabel(\"\")\n",
    "plt.show()\n",
    "plt.close()\n"
   ]
  },
  {
   "cell_type": "markdown",
   "metadata": {},
   "source": [
    "<details>\n",
    "    <summary><button>Hint</button></summary>\n",
    "    <p>Use <code>np.random.normal</code> with parametr <b>size</b> to generate random normal lsit of numbers, note what is the <code>scale</code> parameter.</p>\n",
    "</details>\n"
   ]
  },
  {
   "cell_type": "markdown",
   "metadata": {},
   "source": [
    "## No microstructure noise\n",
    "\n",
    "Given Log-price process\n",
    "$$X_{t}=\\sigma W_{t},$$ \n",
    " log returns are equal to\n",
    "$$Y_{i}=X_{\\tau_{i}}-X_{\\tau_{i-1}}=\\sigma\\left(W_{\\tau_{i}}-W_{\\tau_{i-1}}\\right).$$\n",
    "\n",
    "Expected estimated variance will be \n",
    "$$E\\left[\\hat{\\sigma}^{2}\\right]=\\frac{1}{T}\\sum_{i=1}^{K}E[Y_{i}^{2}]=\\frac{K\\left(\\sigma^{2}\\Delta\\right)}{T}=\\sigma^{2}.$$\n",
    " \n",
    "It is an unbiased estimator. It is also consistent as the variance of the estimator is equal to \n",
    "\\begin{alignat*}{1}\n",
    "var\\left[\\hat{\\sigma}^{2}\\right]= & var\\left\\{ \\frac{1}{T}\\sum_{i=1}^{K}var[Y_{i}^{2}]\\right\\} =\\frac{1}{T^{2}}\\sum_{i=1}^{K}var\\left[Y_{i}^{2}\\right]=\\frac{K\\left(2\\sigma^{4}\\Delta^{2}\\right)}{T^{2}}=\\frac{2\\sigma^{4}\\Delta}{T},\n",
    "\\end{alignat*}\n",
    "\n",
    "Its asymptotic distribution is then \n",
    "$$T^{\\frac{1}{2}}\\left(\\hat{\\sigma}^{2}-\\sigma^{2}\\right)\\rightarrow_{K\\to\\infty} \\mathcal{N}\\left(0,2\\sigma^{4}\\Delta\\right).$$\n",
    "\n",
    "Hence, sampling as often as possible is optimal for the purpose of estimating $\\sigma^{2}.$\n",
    "\n",
    "\n"
   ]
  },
  {
   "cell_type": "markdown",
   "metadata": {},
   "source": [
    "## Exercise 2\n",
    "- Using the process $X_t$ try to estimate $\\hat{\\sigma}$ from returns. Try to show numerically, that sampling as often as for the purpose of estimating $\\sigma^{2}.$\n",
    "- Plot the results.\n",
    "\n"
   ]
  },
  {
   "cell_type": "markdown",
   "metadata": {},
   "source": [
    "<details>\n",
    "    <summary><button>Hint</button></summary>\n",
    "  \n",
    "    <br> Write a function that calculates volatility from the begining of dataset til time  <code>i</code> by slicing numpy array <code>X[:i]</code></br>\n",
    "  \n",
    "</details>\n"
   ]
  },
  {
   "cell_type": "code",
   "execution_count": null,
   "metadata": {
    "collapsed": true
   },
   "outputs": [],
   "source": [
    "#volatility estimate with a \n",
    "def vol_estimate(_ ,n_samples):\n",
    "    n_steps=len(t)\n",
    "    ts = ts[_:_]\n",
    "    returns = _ #calculate the returns\n",
    "\n",
    "    sigma =_ #calculate sigma\n",
    "\n",
    "    return(sigma) # return the results\n",
    "    "
   ]
  },
  {
   "cell_type": "code",
   "execution_count": null,
   "metadata": {
    "collapsed": true
   },
   "outputs": [],
   "source": [
    "# resample a dataset \\\n",
    "def Volatility_with_resampling(ts,_):\n",
    "    n_steps = len(ts)\n",
    "    ts = pd.DataFrame(ts)\n",
    "    \n",
    "    Temp = ts[ % _ == 0] # choose every nth observation\n",
    "    Temp = Temp._.ffill() # resample to the dataset with length as initial dataset\n",
    "    \n",
    "    returns = _\n",
    "    \n",
    "    sigma = np.sqrt(returns)\n",
    "    return_ \n",
    "\n",
    "\n",
    "\n",
    "   "
   ]
  },
  {
   "cell_type": "markdown",
   "metadata": {},
   "source": [
    "## Realized volatility \n",
    "The purpose is to build a volatility time series from the data. The most common example is to take 5 minutes interval returns data and then use to estimate whole day standard deviation:\n",
    "$$\n",
    "\\sigma_t=\\sqrt{\\frac{1}{M}\\sum_{i=1}^{M}{R_{i,j}^2}},$$\n",
    "$R_{i,j}$ represents a j-th minute return during day\n",
    "\n",
    "Before we will write a function to calculate relaized volatility. We need to construct a dataset with time index instead of integer index. To work with time serieses, we will use pandas library."
   ]
  },
  {
   "cell_type": "markdown",
   "metadata": {},
   "source": [
    "## Exercise 3\n",
    "\n",
    "- Create a pandas dataframe  with prices sampled each second from 8:00AM to 4:00PM with time index.\n",
    "- Write a function *realized_volatility()*, which calculates volatility from returns sampled according to user input.\n"
   ]
  },
  {
   "cell_type": "markdown",
   "metadata": {},
   "source": [
    "<details>\n",
    "    <summary><button>Hint</button></summary>\n",
    "  \n",
    "    <br> Use  DataFrame from pandas library. Function  <code>resample()</code> shoudl work well</br>\n",
    "  \n",
    "</details>"
   ]
  },
  {
   "cell_type": "code",
   "execution_count": null,
   "metadata": {
    "collapsed": true
   },
   "outputs": [],
   "source": [
    "\n",
    "def dates(start,delta,counts):\n",
    "    curr = start #assign tovariable curr\n",
    "    Dates = _ #create an empty list\n",
    "    Dates.append(curr)\n",
    "    \n",
    "    while counts _ #loop\n",
    "        curr = curr + datetime.timedelta(_)\n",
    "        Dates.append( _ )\n",
    "        counts = _\n",
    "    \n",
    "    return(Dates)"
   ]
  },
  {
   "cell_type": "code",
   "execution_count": null,
   "metadata": {
    "collapsed": true
   },
   "outputs": [],
   "source": [
    "def realized_volatility(ts , delta):\n",
    "    ts = ts.resample(rule = _ ).last( ) #use .resample to pick chosen observationss\n",
    "    ts = _\n",
    "\n",
    "    return _\n"
   ]
  },
  {
   "cell_type": "markdown",
   "metadata": {},
   "source": [
    "## When the observations are noisy but the Noise is ignored\n",
    "\n",
    "Now, let us assume that we can observe prices only with noise: $$\\tilde{X}_{\\tau_{i}}=X_{\\tau_{i}}+U_{\\tau_{i}}$$\n",
    "where $U\\sim \\mathcal{N}\\left(0,a^{2}\\right).$\n",
    "\n",
    "Data is sampled at equidistant time intervals $\\Delta,$ in which case the parameter $\\sigma^{2}$ is estimated at time $T$ on the\n",
    "basis of $N+1$ discrete observations recorded at times $$\\tau_{0}=0, \\ \\tau_{1}=\\Delta,\\ldots,\\tau_{K}=K\\Delta=T.$$\n",
    "\n",
    "In that case, log-returns are\n",
    "equal to:\n",
    "\n",
    "\\begin{align*}\n",
    "Y_{i} & =\\tilde{X}_{\\tau_{i}}-\\tilde{X}_{\\tau_{i-1}},\\\\\n",
    "& =X_{\\tau_{i}}-X_{\\tau_{i-1}}+U_{\\tau_{i}}-U_{\\tau_{i-1}},\\\\\n",
    "& =\\sigma\\left(W_{\\tau_{i}}-W_{\\tau_{i-1}}\\right)+U_{\\tau_{i}}-U_{\\tau_{i-1}.}\n",
    "\\end{align*}\n",
    "\n",
    "Hence, log-returns variance and auto-covariance are equal to: \n",
    "\\begin{align*}\n",
    "var\\left(Y_{i}\\right) & =var\\left[\\sigma\\left(W_{\\tau_{i}}-W_{\\tau_{i-1}}\\right)+U_{\\tau_{i}}-U_{\\tau_{i-1}}\\right]\\\\\n",
    "& =\\sigma^{2}\\Delta+2a^{2}\\\\\n",
    "cov\\left(Y_{i},Y_{i-1}\\right) & =E\\left[\\left(\\sigma\\left(W_{\\tau_{i}}-W_{\\tau_{i-1}}\\right)+U_{\\tau_{i}}-U_{\\tau_{i-1}}\\right)\\left(\\sigma\\left(W_{\\tau_{i-1}}-W_{\\tau_{i-2}}\\right)+U_{\\tau_{i-1}}-U_{\\tau_{i-2}}\\right)\\right]\\\\\n",
    "& =E\\left[-U_{\\tau_{i-1}}U_{\\tau_{i-1}}\\right]=-a^{2}\\\\\n",
    "cov\\left(Y_{i},Y_{i-k}\\right) & =0\\text{ for any } k.\n",
    "\\end{align*}\n",
    "\n",
    "We may see now that log-returns, $Y_{i}=\\varepsilon_{i}-\\eta\\varepsilon_{i-1}$\n",
    "follow an MA(1) process. In that case variance estimator is biased:\n",
    "$E\\left[\\hat{\\sigma}^{2}\\right]-\\sigma^{2}=\\frac{2a^{2}}{\\Delta}$\n",
    "and $var\\left[\\hat{\\sigma}^{2}\\right]$ does not converge to 0 for\n",
    "$\\Delta\\rightarrow0.$ Actually, looking at $var\\left(Y_{i}\\right)=\\sigma^{2}\\Delta+2a^{2}$\n",
    "we see that $\\mathbf{\\pi}=\\frac{2a^{2}}{\\sigma^{2}\\Delta+2a^{2}}\\rightarrow1\\text{ as } \\Delta\\rightarrow0$\n",
    "that is the micro-structure noise starts to dominate.\n"
   ]
  },
  {
   "cell_type": "code",
   "execution_count": null,
   "metadata": {
    "collapsed": true,
    "scrolled": true
   },
   "outputs": [],
   "source": [
    "plot_sampling_with_noise()"
   ]
  },
  {
   "cell_type": "code",
   "execution_count": null,
   "metadata": {
    "collapsed": true
   },
   "outputs": [],
   "source": [
    "S1 = S.copy()\n",
    "S1['Price'] = S1['Price']+np.random.normal( ) #add a random  noise"
   ]
  },
  {
   "cell_type": "markdown",
   "metadata": {},
   "source": [
    "As we may see, when noise is present, sampling as often as possible might not be the best idea."
   ]
  },
  {
   "cell_type": "markdown",
   "metadata": {},
   "source": [
    "## How to detect microstructure noise\n",
    "\n",
    "We will  try to calculate volatility on a five minutes intervals\n",
    "- We can calculate autocorrelation, when autocorrelation at first lag is huge and negative it might suggests the presence of microstructure noise"
   ]
  },
  {
   "cell_type": "code",
   "execution_count": null,
   "metadata": {
    "collapsed": true,
    "scrolled": false
   },
   "outputs": [],
   "source": [
    "S_noise['return'] = \n",
    "S['return'] =\n",
    "\n",
    "\n",
    "fig1, ax = plt.subplots(1,2, figsize=(12,4), sharex=True,sharey=True)\n",
    "\n",
    "plot_acf(_,ax=ax[0],title=\"Without microstructure noise\")\n",
    "plot_acf(_,ax=ax[1],title=\"With microstructure noise\")\n",
    "y_value=['{:,.2f}'.format(x*100) + '%' for x in ax[1].get_yticks()]\n",
    "ax[1].set_yticklabels(y_value)\n",
    "\n",
    "ax[0].set_xlabel(\"Lag\")\n",
    "ax[1].set_xlabel(\"Lag\")\n",
    "plt.tight_layout()\n",
    "plt.show()\n",
    "\n"
   ]
  },
  {
   "cell_type": "code",
   "execution_count": null,
   "metadata": {
    "collapsed": true,
    "scrolled": false
   },
   "outputs": [],
   "source": [
    "time_series_plot( _ )\n",
    "time_series_plot( _ )\n"
   ]
  },
  {
   "cell_type": "markdown",
   "metadata": {},
   "source": [
    "## MA(1)"
   ]
  },
  {
   "cell_type": "code",
   "execution_count": null,
   "metadata": {
    "collapsed": true
   },
   "outputs": [],
   "source": [
    "from statsmodels.tsa.arima_model import ARMA\n",
    "\n",
    "model=ARMA(_,order=_).fit(method=_)\n",
    "muMLE=model.params[0]\n",
    "etaMLE=model.params[1]\n"
   ]
  },
  {
   "cell_type": "code",
   "execution_count": null,
   "metadata": {
    "collapsed": true
   },
   "outputs": [],
   "source": [
    "print(etaMLE,muMLE)"
   ]
  },
  {
   "cell_type": "code",
   "execution_count": null,
   "metadata": {
    "collapsed": true
   },
   "outputs": [],
   "source": [
    "S2=S1['ret'].shift(_)-thetaMLE*S1['ret']\n",
    "plot_acf(_,title=\"Resampled data with microstructure noise\")\n",
    "plt.show()\n",
    "plt.close()\n"
   ]
  },
  {
   "cell_type": "markdown",
   "metadata": {},
   "source": [
    "# Disclaimer"
   ]
  },
  {
   "cell_type": "markdown",
   "metadata": {},
   "source": [
    "This presentation has been prepared by HSBC Service Delivery (Polska) sp. z o.o. with a registered office located at Kapelanka 42A, 30-347 Krakow, Poland, registered in the District Court for Kraków-Śródmieście in Kraków, XI Commercial Division of the National Court Register, under the number KRS 0000310459, share capital (entirely paid) in the amount of 67 689 500,00 PLN, NIP 525-242-91-07, hereinafter referred to as “HSBC”. \n",
    " \n",
    "HSBC has based this document on information obtained from sources it believes to be reliable but which has not been independently verified. While this information has been prepared in good faith, no representation or warranty, express or implied, is or will be made and no responsibility or liability is or will be accepted by the HSBC, or by any of their respective officers, employees or agents in relation to the accuracy or completeness of the Documents or any other written or oral information made available to any interested party or its advisers and any such liability is expressly disclaimed. Any charts and graphs included are from publicly available sources or proprietary data. No liability is accepted whatsoever for any direct, indirect or consequential loss arising from the use of this document. HSBC is under no obligation to keep current the information in this document.  You are solely responsible for making your own independent appraisal of and investigations into the data, products, financial instruments and transactions referred to in this document and you should not rely on any information in this document as constituting investment advice. Neither HSBC nor any of its affiliates are responsible for providing you with legal, tax or other specialist advice and you should make your own arrangements in respect of this accordingly. The issuance of and details contained in this document, which is not for public circulation, does not constitute an offer or solicitation for, or advice that you should enter into, the purchase or sale of any security, commodity or other financial instrument or master agreement, or any other contract, agreement or structure whatsoever.  This document is intended to be distributed in its entirety. Reproduction of this document, in whole or in part, or disclosure of any of its contents, without prior consent of HSBC or any associate, is prohibited. \n"
   ]
  },
  {
   "cell_type": "markdown",
   "metadata": {},
   "source": [
    " <div style=\"text-align: center; color: #db0011; font-family: Arial, sans-serif; \n",
    "            font-size: 30pt; height: 500px; line-height: 500px\">\n",
    "    Together we thrive   \n",
    "</div>"
   ]
  },
  {
   "cell_type": "markdown",
   "metadata": {},
   "source": [
    "<div style=\"text-align: left\">\n",
    "    <img src=\"data:image/png;base64,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\" width=\"120px\" height=\"auto\" style=\"float: left\" />\n",
    "</div>"
   ]
  },
  {
   "cell_type": "code",
   "execution_count": null,
   "metadata": {
    "collapsed": true
   },
   "outputs": [],
   "source": []
  }
 ],
 "metadata": {
  "kernelspec": {
   "display_name": "Python 3",
   "language": "python",
   "name": "python3"
  },
  "language_info": {
   "codemirror_mode": {
    "name": "ipython",
    "version": 3
   },
   "file_extension": ".py",
   "mimetype": "text/x-python",
   "name": "python",
   "nbconvert_exporter": "python",
   "pygments_lexer": "ipython3",
   "version": "3.8.1"
  }
 },
 "nbformat": 4,
 "nbformat_minor": 2
}
